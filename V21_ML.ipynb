{
 "cells": [
  {
   "cell_type": "markdown",
   "id": "8566e577-0776-435f-a04c-f6f6cf353467",
   "metadata": {},
   "source": [
    "Suggested LLM and RAG application."
   ]
  },
  {
   "cell_type": "markdown",
   "id": "5daf2dd1-40c1-44a1-89c0-5b006c8e92b2",
   "metadata": {},
   "source": [
    "### RAG for Vista Documentation Lib"
   ]
  },
  {
   "cell_type": "markdown",
   "id": "1638bd88-bdd8-46e9-b7b7-49e8a2781560",
   "metadata": {},
   "source": [
    "##  The VDL is an open resource set of documents on the web and is frequently used by advanced users of VISTA ( CACs, Pharmacists, ADPAC).\n",
    "### Suggestion:\n",
    "## Create a resource that offers a QnA session for CACs/Pharmacists/ADPACs to \n"
   ]
  },
  {
   "cell_type": "code",
   "execution_count": 2,
   "id": "75a435d2-f2a6-4aab-b4df-21006debe663",
   "metadata": {},
   "outputs": [
    {
     "name": "stderr",
     "output_type": "stream",
     "text": [
      "USER_AGENT environment variable not set, consider setting it to identify your requests.\n",
      "d:\\llama\\env\\lib\\site-packages\\sentence_transformers\\cross_encoder\\CrossEncoder.py:13: TqdmExperimentalWarning: Using `tqdm.autonotebook.tqdm` in notebook mode. Use `tqdm.tqdm` instead to force console mode (e.g. in jupyter console)\n",
      "  from tqdm.autonotebook import tqdm, trange\n"
     ]
    }
   ],
   "source": [
    "import os\n",
    "\n",
    "import sys\n",
    "from langchain.document_loaders import WebBaseLoader, PyPDFLoader # load URLs.\n",
    "from langchain.text_splitter import RecursiveCharacterTextSplitter\n",
    "#from langchain.embeddings.openai import OpenAIEmbeddings\n",
    "from langchain_community.embeddings import OllamaEmbeddings\n",
    "from sentence_transformers import SentenceTransformer\n",
    "\n",
    "from langchain_chroma import Chroma\n",
    "from uuid import uuid4\n",
    "from langchain_core.documents import Document\n",
    "from langchain_ollama import ChatOllama\n",
    "from langchain.prompts import PromptTemplate\n",
    "from langchain_core.output_parsers import StrOutputParser\n",
    "from chromadb.utils import embedding_functions\n",
    "import chromadb\n",
    "from langchain_community.embeddings.sentence_transformer import (\n",
    "    SentenceTransformerEmbeddings,\n",
    " )\n",
    "\n",
    "# from dotenv import load_dotenv, find_dotenv\n",
    "# _ = load_dotenv(find_dotenv())\n",
    "\n",
    "# openai.api_key = os.environ['OPENAI_API_KEY']\n",
    "\n",
    "class PreProcess():\n",
    "    '''\n",
    "    A set of methods  to pre-process  text for a bot using the VDL library\n",
    "    '''\n",
    "    def __init__(self):\n",
    "        self.docs = []\n",
    "        #self.embedding = OpenAIEmbeddings()\n",
    "        \n",
    "        \n",
    "\n",
    "\n",
    "    def concat_pdfdocs(self, pdfurl):\n",
    "        '''\n",
    "        A method to take in a PDF URL of a document and concatenate it to  to a larger document \n",
    "        '''\n",
    "\n",
    "        # load a VDL PDF.\n",
    "        loader  = PyPDFLoader(pdfurl)\n",
    "        doc = loader.load()\n",
    "        self.docs.extend(doc)\n",
    "    \n",
    "    def get_chuncks(self, chunck_size = 150, chunck_overlap = 10):\n",
    "        '''\n",
    "        A method to  create embedding following the splitting \n",
    "        '''\n",
    "        \n",
    "        text_splitter = RecursiveCharacterTextSplitter(\n",
    "            chunk_size = chunck_size,\n",
    "            chunk_overlap = chunck_overlap,\n",
    "            length_function=len,\n",
    "            is_separator_regex=True,\n",
    "            )\n",
    "        splits = text_splitter.split_documents(self.docs)\n",
    "        #\n",
    "        \n",
    "        return splits\n",
    "\n",
    "\n",
    "    \n",
    "    \n",
    "    def delete_collection(self, collection, col_name):\n",
    "        '''\n",
    "        A method to delete a collection\n",
    "        collection :\n",
    "        '''\n",
    "        collection.delete(name = col_name)\n",
    "\n",
    "\n",
    "    def write_docs(self, list, docs2save = 'docs.txt'):\n",
    "        '''\n",
    "        A method to save the docs list to a flat text file for debug/ease of development\n",
    "        '''\n",
    "\n",
    "        with open(docs2save, 'w') as file:\n",
    "            # Join the list elements into a single string with a newline character\n",
    "            data_to_write = '**'.join(list.to_json()['kwargs']['page_content'])\n",
    "    \n",
    "             # Write the data to the file\n",
    "            file.write(data_to_write)\n",
    "\n",
    "\n",
    "    def load_chroma(self, splits):\n",
    "        '''\n",
    "        A method to take chunck  and load them into Chroma one by one using the\n",
    "        '''\n",
    "        get_page_content = lambda x: x.to_json()['kwargs']['page_content'].replace(\"\\n\",\"\")\n",
    "        get_metadata = lambda x: x.to_json()['kwargs']['metadata']\n",
    "        get_id = lambda x: x.to_json()['kwargs']['id']\n",
    "        #\n",
    "        page_content = list(map(get_page_content, docs))\n",
    "        metadata = list(map(get_metadata, docs))\n",
    "        id = ['doc{0}'.format(i) for  i in range(len(page_content))]\n",
    "        #\n",
    "        # create a collection\n",
    "        client = chromadb.PersistentClient(path=\"test\")\n",
    "        #embeddings = OpenAIEmbeddings(model=\"text-embedding-3-large\")\n",
    "        default_ef = embedding_functions.DefaultEmbeddingFunction()\n",
    "        #default_ef = SentenceTransformer(\"all-MiniLM-L6-v2\")\n",
    "        collection = client.get_or_create_collection(name=\"test\", embedding_function = default_ef)\n",
    "    #\n",
    "        for i in range(len(id)):\n",
    "            collection.add(\n",
    "                documents=page_content[i],\n",
    "                metadatas=metadata[i],\n",
    "                ids=id[i]\n",
    "            )\n",
    "        return collection\n",
    "\n",
    "    def connect_chroma(self,path):\n",
    "        '''\n",
    "        A method to commect to a chroma collection with a path \"path\"\n",
    "        path - string, the path  name of collection\n",
    "        '''\n",
    "        client = chromadb.PersistentClient(path=path)\n",
    "        #embeddings = OpenAIEmbeddings(model=\"text-embedding-3-large\")\n",
    "        default_ef = embedding_functions.DefaultEmbeddingFunction()\n",
    "        #default_ef = SentenceTransformer(\"all-MiniLM-L6-v2\")\n",
    "        collection = client.get_or_create_collection(name=path, embedding_function = default_ef)\n",
    "\n",
    "        return collection\n"
   ]
  },
  {
   "cell_type": "code",
   "execution_count": 4,
   "id": "09db273a-d07f-4063-886b-cb762273ca8c",
   "metadata": {},
   "outputs": [],
   "source": [
    "## Instantiate \n",
    "pp = PreProcess()\n"
   ]
  },
  {
   "cell_type": "code",
   "execution_count": null,
   "id": "69d92cf6-8a19-43cf-a03d-6c8ba0d945e2",
   "metadata": {},
   "outputs": [],
   "source": [
    "pdfurls = [\n",
    "         \"https://www.va.gov/vdl/documents/Clinical/CPRS-Text_Integration_Utility_(TIU)/tiutm.pdf\",\n",
    "        \"https://www.va.gov/vdl/documents/Clinical/CPRS-Text_Integration_Utility_(TIU)/tiu_util.pdf\",\n",
    "        \"https://www.va.gov/vdl/documents/Clinical/CPRS-Text_Integration_Utility_(TIU)/tiuum.pdf\",\n",
    "        \"https://www.va.gov/vdl/documents/Clinical/CPRS-Text_Integration_Utility_(TIU)/tiuhl7.pdf\",\n",
    "        \"https://www.va.gov/vdl/documents/Clinical/CPRS-Text_Integration_Utility_(TIU)/tiuqr.pdf\",\n",
    "        \"https://www.va.gov/vdl/documents/Clinical/CPRS-Text_Integration_Utility_(TIU)/tiu_1_250rn.pdf\",\n",
    "        \"https://www.va.gov/vdl/documents/Clinical/CPRS-Text_Integration_Utility_(TIU)/tiu_1_0_297_ig.pdf\",\n",
    "        \"https://www.va.gov/vdl/documents/Clinical/CPRS-Text_Integration_Utility_(TIU)/tiu_1_0_309_ig.pdf\",\n",
    "        \"https://www.va.gov/vdl/documents/Clinical/CPRS-Text_Integration_Utility_(TIU)/tiuim.pdf\",\n",
    "       \"https://www.va.gov/vdl/documents/Clinical/CPRS-Text_Integration_Utility_(TIU)/tiuig.pdf\"\n",
    "\n",
    "for i, pdfurl in enumerate(pdfurls):\n",
    "    pp.concat_pdfdocs(pdfurl)\n",
    "docs = pp.docs\n",
    "\n",
    "splits = pp.get_chuncks(chunck_size= 240, chunck_overlap=10)\n",
    "# load into chromadb\n",
    "#vs = pp.load_chroma(splits) # load splits into chroma\n"
   ]
  },
  {
   "cell_type": "code",
   "execution_count": 5,
   "id": "86dfb5e7-105f-47a0-9ba5-56c89d350e7a",
   "metadata": {},
   "outputs": [],
   "source": [
    "vs = pp.connect_chroma(path = \"test\") # connect to a collection"
   ]
  },
  {
   "cell_type": "code",
   "execution_count": 6,
   "id": "6d25442f-1104-429d-9166-4082dec94ce3",
   "metadata": {},
   "outputs": [],
   "source": [
    "\n",
    "#simple query\n",
    "def ask_q(question, n_res = 5):\n",
    "    res = vs.query(\n",
    "        query_texts=question,\n",
    "        n_results = 5,\n",
    "        include=[\"documents\", \"distances\", \"metadatas\"]\n",
    "    )\n",
    "\n",
    "    # Define the prompt template for the LLM\n",
    "    prompt = PromptTemplate(\n",
    "        template=\"\"\"You are an assistant for question-answering tasks.\n",
    "        Use the following documents to answer the question.\n",
    "        If you don't know the answer, just say that you don't know.\n",
    "        Use three sentences maximum and keep the answer concise:\n",
    "        Question: {question}\n",
    "        Documents: {documents}\n",
    "        Answer:\n",
    "        \"\"\",\n",
    "        input_variables=[\"question\", \"documents\"],\n",
    "    )\n",
    "\n",
    "    # Initialize the LLM with Llama 3.1 model\n",
    "    llm = ChatOllama(\n",
    "        model=\"llama3.2\",\n",
    "        temperature=0,\n",
    "    )\n",
    "    # Create a chain combining the prompt template and LLM\n",
    "    rag_chain = prompt | llm | StrOutputParser()\n",
    "\n",
    "    doc_texts = \"\\\\n\".join([doc for doc in res['documents'][0]])\n",
    "\n",
    "    answer = rag_chain.invoke({\"question\": question, \"documents\": doc_texts})\n",
    "\n",
    "    return answer\n"
   ]
  },
  {
   "cell_type": "code",
   "execution_count": 7,
   "id": "44e6f159-d794-4cc9-9c5f-4fb0388fe170",
   "metadata": {},
   "outputs": [],
   "source": [
    "question = [\"How to create a new note\"]\n",
    "ans = ask_q(question)"
   ]
  },
  {
   "cell_type": "code",
   "execution_count": 8,
   "id": "7faae240-6db2-41b9-8eb6-fae265dff5bf",
   "metadata": {},
   "outputs": [
    {
     "name": "stdout",
     "output_type": "stream",
     "text": [
      "('It appears that the text is a user manual for a clinical documentation '\n",
      " 'system, specifically the Text Integration Utilities (TIU) version 1.0. The '\n",
      " 'manual provides instructions on how to use the system, including creating '\n",
      " 'and editing documents, using Interdisciplinary Notes, and setting up '\n",
      " 'document definitions.\\n'\n",
      " '\\n'\n",
      " 'The manual covers various topics, such as:\\n'\n",
      " '\\n'\n",
      " '* Creating a Progress Note Document Class called Nursing Notes\\n'\n",
      " '* Creating a Title called Nursing Patient Education Notes\\n'\n",
      " '* Using Interdisciplinary Notes to express notes from different caregivers '\n",
      " 'as a single episode of care\\n'\n",
      " '* Setting up note titles for the initiating note and attachment notes '\n",
      " '(parent and child notes)\\n'\n",
      " '* Using version 15 of the CPRS Windows interface or later\\n'\n",
      " '\\n'\n",
      " 'The manual also provides guidance on how to use various features, such as:\\n'\n",
      " '\\n'\n",
      " '* Dragging and dropping previously created note attachments to the parent '\n",
      " 'node\\n'\n",
      " '* Confirming attachments with a dialog box\\n'\n",
      " '* Creating document definitions using the Create Document Definitions '\n",
      " 'option\\n'\n",
      " '* Going down the hierarchy successive levels to create items under a lower '\n",
      " 'entry\\n'\n",
      " '\\n'\n",
      " 'Overall, the manual provides step-by-step instructions on how to use the TIU '\n",
      " 'system to create and edit clinical documents, including Interdisciplinary '\n",
      " 'Notes and document definitions.\\n'\n",
      " '\\n'\n",
      " 'Here is an example of how to create a Progress Note Document Class called '\n",
      " 'Nursing Notes:\\n'\n",
      " '\\n'\n",
      " '1. Select Document Definitions from your menu.\\n'\n",
      " '2. Select Create Document Definitions.\\n'\n",
      " '3. A screen appears with various options, including:\\n'\n",
      " '\\t* CLINICAL DOCUMENTS (bolded)\\n'\n",
      " '\\t* ADDENDUM\\n'\n",
      " '\\t* DISCHARGE SUMMARY\\n'\n",
      " '\\t* PROGRESS NOTES\\n'\n",
      " '4. Select the CLINICAL DOCUMENTS option.\\n'\n",
      " '5. Select the NEXT LEVEL action to create a new item under Clinical '\n",
      " 'Documents.\\n'\n",
      " '6. Enter \"Nursing Notes\" as the title and select the PROGRESS NOTES option.\\n'\n",
      " '7. Select the CREATE DOCUMENT DEFINITION action to create the document '\n",
      " 'class.\\n'\n",
      " '\\n'\n",
      " 'Similarly, here is an example of how to create a Title called Nursing '\n",
      " 'Patient Education Notes:\\n'\n",
      " '\\n'\n",
      " '1. Select Document Definitions from your menu.\\n'\n",
      " '2. Select Create Document Definitions.\\n'\n",
      " '3. A screen appears with various options, including:\\n'\n",
      " '\\t* CLINICAL DOCUMENTS (bolded)\\n'\n",
      " '\\t* ADDENDUM\\n'\n",
      " '\\t* DISCHARGE SUMMARY\\n'\n",
      " '\\t* PROGRESS NOTES\\n'\n",
      " '4. Select the CLINICAL DOCUMENTS option.\\n'\n",
      " '5. Select the NEXT LEVEL action to create a new item under Clinical '\n",
      " 'Documents.\\n'\n",
      " '6. Enter \"Nursing Patient Education Notes\" as the title and select the '\n",
      " 'ADDENDUM option.\\n'\n",
      " '7. Select the CREATE DOCUMENT DEFINITION action to create the document '\n",
      " 'class.\\n'\n",
      " '\\n'\n",
      " 'These are just two examples of how to use the TIU system to create and edit '\n",
      " 'clinical documents. The manual provides more detailed instructions on how to '\n",
      " 'use various features and options.')\n"
     ]
    }
   ],
   "source": [
    "from pprint import pprint\n",
    "pprint(ans)"
   ]
  },
  {
   "cell_type": "code",
   "execution_count": 9,
   "id": "564720e1-3369-4f5c-893d-90f195d58f0b",
   "metadata": {},
   "outputs": [],
   "source": [
    "question = [\"How to delete a new note\"]\n",
    "ans = ask_q(question)"
   ]
  },
  {
   "cell_type": "code",
   "execution_count": 10,
   "id": "c1f26d6d-4caf-4f05-ae3d-7549f04d161f",
   "metadata": {},
   "outputs": [
    {
     "name": "stdout",
     "output_type": "stream",
     "text": [
      "('To delete a new note, go to the Interdisciplinary Notes menu and select '\n",
      " '\"Detach from ID Note\". This will detach the note from its parent node.')\n"
     ]
    }
   ],
   "source": [
    "from pprint import pprint\n",
    "pprint(ans)"
   ]
  },
  {
   "cell_type": "code",
   "execution_count": 14,
   "id": "4052b8c1-5477-4531-b999-f38e2dfbbda1",
   "metadata": {},
   "outputs": [],
   "source": [
    "question = [\"How to make an addendum\"]\n",
    "ans = ask_q(question)"
   ]
  },
  {
   "cell_type": "code",
   "execution_count": 12,
   "id": "0fa7e136-5466-4d4d-bfc6-104d16504e04",
   "metadata": {},
   "outputs": [
    {
     "name": "stdout",
     "output_type": "stream",
     "text": [
      "('The text appears to be a user manual for CPRS (Clinical Practice and '\n",
      " 'Reporting System), a healthcare information system. The manual provides '\n",
      " 'instructions on how to use the system, including searching for patient '\n",
      " \"records, viewing progress notes, and navigating the system's interface.\\n\"\n",
      " '\\n'\n",
      " 'Specifically, the manual explains how to:\\n'\n",
      " '\\n'\n",
      " '1. Search for patient records by name or other criteria.\\n'\n",
      " '2. View progress notes, including those with addendums attached.\\n'\n",
      " \"3. Navigate the system's tree-structured arrangement of notes.\\n\"\n",
      " '4. Understand the meaning of various icons used in the system, such as '\n",
      " 'signed and unsigned notes, Interdisciplinary Notes, and regular notes.\\n'\n",
      " '\\n'\n",
      " 'The manual also provides instructions on how to perform actions such as:\\n'\n",
      " '\\n'\n",
      " '* Quitting the system\\n'\n",
      " '* Printing documents\\n'\n",
      " '* Identifying signers\\n'\n",
      " '* Making addendums\\n'\n",
      " '\\n'\n",
      " 'Overall, the manual appears to be a comprehensive guide for healthcare '\n",
      " 'professionals using CPRS to manage patient records and communicate with '\n",
      " 'other providers.')\n"
     ]
    }
   ],
   "source": [
    "pprint(ans)"
   ]
  },
  {
   "cell_type": "markdown",
   "id": "3eb32059-7542-4117-bd5a-ab4f053c69ab",
   "metadata": {},
   "source": []
  },
  {
   "cell_type": "markdown",
   "id": "d47a3cf2-f45d-416e-841e-068786aebde1",
   "metadata": {},
   "source": [
    "### Identify surgical site infections from text notes."
   ]
  },
  {
   "cell_type": "code",
   "execution_count": null,
   "id": "8f819eed-3928-4fe4-b04c-aeada8016624",
   "metadata": {},
   "outputs": [],
   "source": []
  }
 ],
 "metadata": {
  "kernelspec": {
   "display_name": "Python 3 (ipykernel)",
   "language": "python",
   "name": "python3"
  },
  "language_info": {
   "codemirror_mode": {
    "name": "ipython",
    "version": 3
   },
   "file_extension": ".py",
   "mimetype": "text/x-python",
   "name": "python",
   "nbconvert_exporter": "python",
   "pygments_lexer": "ipython3",
   "version": "3.8.10"
  }
 },
 "nbformat": 4,
 "nbformat_minor": 5
}
